{
 "cells": [
  {
   "cell_type": "markdown",
   "id": "0dd0bfbe",
   "metadata": {},
   "source": [
    "6.4 Machine Learning"
   ]
  },
  {
   "cell_type": "markdown",
   "id": "785881b3",
   "metadata": {},
   "source": [
    "This script contains the following:\n",
    "\n",
    "1. Importing libraries and data\n",
    "\n",
    "2. Data cleaning\n",
    "\n",
    "3. Data prep for regression analysis\n",
    "\n",
    "4. Regression analysis\n",
    "\n",
    "Bonus: performance improvement after removing outliers"
   ]
  },
  {
   "cell_type": "markdown",
   "id": "ec926a21",
   "metadata": {},
   "source": [
    "1. Importing Libraries"
   ]
  },
  {
   "cell_type": "code",
   "execution_count": 1,
   "id": "45ce66f3",
   "metadata": {},
   "outputs": [],
   "source": [
    "import pandas as pd\n",
    "import numpy as np\n",
    "import seaborn as sns\n",
    "import matplotlib\n",
    "import matplotlib.pyplot as plt\n",
    "import os\n",
    "import sklearn\n",
    "from sklearn.model_selection import train_test_split \n",
    "from sklearn.linear_model import LinearRegression\n",
    "from sklearn.metrics import mean_squared_error, r2_score"
   ]
  },
  {
   "cell_type": "code",
   "execution_count": 2,
   "id": "18d1b2dc",
   "metadata": {},
   "outputs": [],
   "source": [
    "%matplotlib inline"
   ]
  },
  {
   "cell_type": "code",
   "execution_count": 3,
   "id": "3e27427e",
   "metadata": {},
   "outputs": [],
   "source": [
    "path = r'/Users/bridget/Downloads/Avocado Analysis 2023'"
   ]
  },
  {
   "cell_type": "code",
   "execution_count": 4,
   "id": "c7ae7049",
   "metadata": {},
   "outputs": [],
   "source": [
    "df = pd.read_csv(os.path.join(path, '02 Data', 'Prepared Data', 'avocado_new.csv'))"
   ]
  },
  {
   "cell_type": "markdown",
   "id": "45169aa6",
   "metadata": {},
   "source": [
    "2. Data Cleaning"
   ]
  },
  {
   "cell_type": "code",
   "execution_count": 5,
   "id": "6ca21cd9",
   "metadata": {},
   "outputs": [
    {
     "data": {
      "text/html": [
       "<div>\n",
       "<style scoped>\n",
       "    .dataframe tbody tr th:only-of-type {\n",
       "        vertical-align: middle;\n",
       "    }\n",
       "\n",
       "    .dataframe tbody tr th {\n",
       "        vertical-align: top;\n",
       "    }\n",
       "\n",
       "    .dataframe thead th {\n",
       "        text-align: right;\n",
       "    }\n",
       "</style>\n",
       "<table border=\"1\" class=\"dataframe\">\n",
       "  <thead>\n",
       "    <tr style=\"text-align: right;\">\n",
       "      <th></th>\n",
       "      <th>Unnamed: 0</th>\n",
       "      <th>Unnamed</th>\n",
       "      <th>Date</th>\n",
       "      <th>AveragePrice</th>\n",
       "      <th>Total Volume</th>\n",
       "      <th>Small/Medium</th>\n",
       "      <th>Large</th>\n",
       "      <th>XLarge</th>\n",
       "      <th>Total Bags</th>\n",
       "      <th>Small Bags</th>\n",
       "      <th>Large.1</th>\n",
       "      <th>XLarge Bags</th>\n",
       "      <th>type</th>\n",
       "      <th>year</th>\n",
       "      <th>region</th>\n",
       "    </tr>\n",
       "  </thead>\n",
       "  <tbody>\n",
       "    <tr>\n",
       "      <th>0</th>\n",
       "      <td>0</td>\n",
       "      <td>0</td>\n",
       "      <td>2015-01-04</td>\n",
       "      <td>1.22</td>\n",
       "      <td>40873.28</td>\n",
       "      <td>2819.50</td>\n",
       "      <td>28287.42</td>\n",
       "      <td>49.90</td>\n",
       "      <td>9716.46</td>\n",
       "      <td>9186.93</td>\n",
       "      <td>529.53</td>\n",
       "      <td>0.0</td>\n",
       "      <td>conventional</td>\n",
       "      <td>2015</td>\n",
       "      <td>Albany</td>\n",
       "    </tr>\n",
       "    <tr>\n",
       "      <th>1</th>\n",
       "      <td>1</td>\n",
       "      <td>1</td>\n",
       "      <td>2015-01-11</td>\n",
       "      <td>1.24</td>\n",
       "      <td>41195.08</td>\n",
       "      <td>1002.85</td>\n",
       "      <td>31640.34</td>\n",
       "      <td>127.12</td>\n",
       "      <td>8424.77</td>\n",
       "      <td>8036.04</td>\n",
       "      <td>388.73</td>\n",
       "      <td>0.0</td>\n",
       "      <td>conventional</td>\n",
       "      <td>2015</td>\n",
       "      <td>Albany</td>\n",
       "    </tr>\n",
       "    <tr>\n",
       "      <th>2</th>\n",
       "      <td>2</td>\n",
       "      <td>2</td>\n",
       "      <td>2015-01-18</td>\n",
       "      <td>1.17</td>\n",
       "      <td>44511.28</td>\n",
       "      <td>914.14</td>\n",
       "      <td>31540.32</td>\n",
       "      <td>135.77</td>\n",
       "      <td>11921.05</td>\n",
       "      <td>11651.09</td>\n",
       "      <td>269.96</td>\n",
       "      <td>0.0</td>\n",
       "      <td>conventional</td>\n",
       "      <td>2015</td>\n",
       "      <td>Albany</td>\n",
       "    </tr>\n",
       "    <tr>\n",
       "      <th>3</th>\n",
       "      <td>3</td>\n",
       "      <td>3</td>\n",
       "      <td>2015-01-25</td>\n",
       "      <td>1.06</td>\n",
       "      <td>45147.50</td>\n",
       "      <td>941.38</td>\n",
       "      <td>33196.16</td>\n",
       "      <td>164.14</td>\n",
       "      <td>10845.82</td>\n",
       "      <td>10103.35</td>\n",
       "      <td>742.47</td>\n",
       "      <td>0.0</td>\n",
       "      <td>conventional</td>\n",
       "      <td>2015</td>\n",
       "      <td>Albany</td>\n",
       "    </tr>\n",
       "    <tr>\n",
       "      <th>4</th>\n",
       "      <td>4</td>\n",
       "      <td>4</td>\n",
       "      <td>2015-02-01</td>\n",
       "      <td>0.99</td>\n",
       "      <td>70873.60</td>\n",
       "      <td>1353.90</td>\n",
       "      <td>60017.20</td>\n",
       "      <td>179.32</td>\n",
       "      <td>9323.18</td>\n",
       "      <td>9170.82</td>\n",
       "      <td>152.36</td>\n",
       "      <td>0.0</td>\n",
       "      <td>conventional</td>\n",
       "      <td>2015</td>\n",
       "      <td>Albany</td>\n",
       "    </tr>\n",
       "  </tbody>\n",
       "</table>\n",
       "</div>"
      ],
      "text/plain": [
       "   Unnamed: 0  Unnamed        Date  AveragePrice  Total Volume  Small/Medium  \\\n",
       "0           0        0  2015-01-04          1.22      40873.28       2819.50   \n",
       "1           1        1  2015-01-11          1.24      41195.08       1002.85   \n",
       "2           2        2  2015-01-18          1.17      44511.28        914.14   \n",
       "3           3        3  2015-01-25          1.06      45147.50        941.38   \n",
       "4           4        4  2015-02-01          0.99      70873.60       1353.90   \n",
       "\n",
       "      Large  XLarge  Total Bags  Small Bags  Large.1  XLarge Bags  \\\n",
       "0  28287.42   49.90     9716.46     9186.93   529.53          0.0   \n",
       "1  31640.34  127.12     8424.77     8036.04   388.73          0.0   \n",
       "2  31540.32  135.77    11921.05    11651.09   269.96          0.0   \n",
       "3  33196.16  164.14    10845.82    10103.35   742.47          0.0   \n",
       "4  60017.20  179.32     9323.18     9170.82   152.36          0.0   \n",
       "\n",
       "           type  year  region  \n",
       "0  conventional  2015  Albany  \n",
       "1  conventional  2015  Albany  \n",
       "2  conventional  2015  Albany  \n",
       "3  conventional  2015  Albany  \n",
       "4  conventional  2015  Albany  "
      ]
     },
     "execution_count": 5,
     "metadata": {},
     "output_type": "execute_result"
    }
   ],
   "source": [
    "df.head()"
   ]
  },
  {
   "cell_type": "code",
   "execution_count": 6,
   "id": "ac4fb574",
   "metadata": {},
   "outputs": [
    {
     "data": {
      "text/plain": [
       "(27321, 15)"
      ]
     },
     "execution_count": 6,
     "metadata": {},
     "output_type": "execute_result"
    }
   ],
   "source": [
    "df.shape"
   ]
  },
  {
   "cell_type": "code",
   "execution_count": 7,
   "id": "6690d560",
   "metadata": {},
   "outputs": [
    {
     "data": {
      "text/plain": [
       "Unnamed: 0      0\n",
       "Unnamed         0\n",
       "Date            0\n",
       "AveragePrice    0\n",
       "Total Volume    0\n",
       "Small/Medium    0\n",
       "Large           0\n",
       "XLarge          0\n",
       "Total Bags      0\n",
       "Small Bags      0\n",
       "Large.1         0\n",
       "XLarge Bags     0\n",
       "type            0\n",
       "year            0\n",
       "region          0\n",
       "dtype: int64"
      ]
     },
     "execution_count": 7,
     "metadata": {},
     "output_type": "execute_result"
    }
   ],
   "source": [
    "# Check for missing values\n",
    "df.isnull().sum()"
   ]
  },
  {
   "cell_type": "code",
   "execution_count": 8,
   "id": "7d5254d9",
   "metadata": {},
   "outputs": [
    {
     "name": "stderr",
     "output_type": "stream",
     "text": [
      "/Users/bridget/opt/anaconda3/lib/python3.9/site-packages/seaborn/distributions.py:2619: FutureWarning: `distplot` is a deprecated function and will be removed in a future version. Please adapt your code to use either `displot` (a figure-level function with similar flexibility) or `histplot` (an axes-level function for histograms).\n",
      "  warnings.warn(msg, FutureWarning)\n"
     ]
    },
    {
     "data": {
      "text/plain": [
       "<AxesSubplot:xlabel='AveragePrice', ylabel='Density'>"
      ]
     },
     "execution_count": 8,
     "metadata": {},
     "output_type": "execute_result"
    },
    {
     "data": {
      "image/png": "[encoded data removed]",
      "text/plain": [
       "<Figure size 432x288 with 1 Axes>"
      ]
     },
     "metadata": {
      "needs_background": "light"
     },
     "output_type": "display_data"
    }
   ],
   "source": [
    "# Check for extreme values\n",
    "sns.distplot(df['AveragePrice'],bins = 25, kde = True)"
   ]
  },
  {
   "cell_type": "code",
   "execution_count": 9,
   "id": "44bb0b76",
   "metadata": {},
   "outputs": [
    {
     "data": {
      "text/plain": [
       "1.4006474872808399"
      ]
     },
     "execution_count": 9,
     "metadata": {},
     "output_type": "execute_result"
    }
   ],
   "source": [
    "# Check Mean\n",
    "df['AveragePrice'].mean()"
   ]
  },
  {
   "cell_type": "code",
   "execution_count": 10,
   "id": "30659473",
   "metadata": {},
   "outputs": [
    {
     "data": {
      "text/plain": [
       "1.37"
      ]
     },
     "execution_count": 10,
     "metadata": {},
     "output_type": "execute_result"
    }
   ],
   "source": [
    "# Check median\n",
    "df['AveragePrice'].median()"
   ]
  },
  {
   "cell_type": "code",
   "execution_count": 11,
   "id": "b2c51395",
   "metadata": {},
   "outputs": [
    {
     "data": {
      "text/plain": [
       "3.25"
      ]
     },
     "execution_count": 11,
     "metadata": {},
     "output_type": "execute_result"
    }
   ],
   "source": [
    "# Check max\n",
    "df['AveragePrice'].max()"
   ]
  },
  {
   "cell_type": "code",
   "execution_count": 12,
   "id": "58dba1f7",
   "metadata": {},
   "outputs": [
    {
     "data": {
      "text/plain": [
       "0.44"
      ]
     },
     "execution_count": 12,
     "metadata": {},
     "output_type": "execute_result"
    }
   ],
   "source": [
    "# Check min\n",
    "df['AveragePrice'].min()"
   ]
  },
  {
   "cell_type": "code",
   "execution_count": 13,
   "id": "a469f121",
   "metadata": {},
   "outputs": [
    {
     "data": {
      "text/plain": [
       "2.81"
      ]
     },
     "execution_count": 13,
     "metadata": {},
     "output_type": "execute_result"
    }
   ],
   "source": [
    "df['AveragePrice'].max()-df['AveragePrice'].min()"
   ]
  },
  {
   "cell_type": "code",
   "execution_count": 14,
   "id": "d305c2a9",
   "metadata": {},
   "outputs": [
    {
     "data": {
      "text/html": [
       "<div>\n",
       "<style scoped>\n",
       "    .dataframe tbody tr th:only-of-type {\n",
       "        vertical-align: middle;\n",
       "    }\n",
       "\n",
       "    .dataframe tbody tr th {\n",
       "        vertical-align: top;\n",
       "    }\n",
       "\n",
       "    .dataframe thead th {\n",
       "        text-align: right;\n",
       "    }\n",
       "</style>\n",
       "<table border=\"1\" class=\"dataframe\">\n",
       "  <thead>\n",
       "    <tr style=\"text-align: right;\">\n",
       "      <th></th>\n",
       "      <th>Unnamed: 0</th>\n",
       "      <th>Unnamed</th>\n",
       "      <th>AveragePrice</th>\n",
       "      <th>Total Volume</th>\n",
       "      <th>Small/Medium</th>\n",
       "      <th>Large</th>\n",
       "      <th>XLarge</th>\n",
       "      <th>Total Bags</th>\n",
       "      <th>Small Bags</th>\n",
       "      <th>Large.1</th>\n",
       "      <th>XLarge Bags</th>\n",
       "      <th>year</th>\n",
       "    </tr>\n",
       "  </thead>\n",
       "  <tbody>\n",
       "    <tr>\n",
       "      <th>count</th>\n",
       "      <td>27321.000000</td>\n",
       "      <td>27321.000000</td>\n",
       "      <td>27321.000000</td>\n",
       "      <td>2.732100e+04</td>\n",
       "      <td>2.732100e+04</td>\n",
       "      <td>2.732100e+04</td>\n",
       "      <td>2.732100e+04</td>\n",
       "      <td>2.732100e+04</td>\n",
       "      <td>2.732100e+04</td>\n",
       "      <td>2.732100e+04</td>\n",
       "      <td>27321.000000</td>\n",
       "      <td>27321.00000</td>\n",
       "    </tr>\n",
       "    <tr>\n",
       "      <th>mean</th>\n",
       "      <td>13660.000000</td>\n",
       "      <td>13660.013799</td>\n",
       "      <td>1.400647</td>\n",
       "      <td>9.136115e+05</td>\n",
       "      <td>2.953402e+05</td>\n",
       "      <td>2.901264e+05</td>\n",
       "      <td>2.216030e+04</td>\n",
       "      <td>3.058950e+05</td>\n",
       "      <td>2.187128e+05</td>\n",
       "      <td>8.203135e+04</td>\n",
       "      <td>5150.764599</td>\n",
       "      <td>2016.95659</td>\n",
       "    </tr>\n",
       "    <tr>\n",
       "      <th>std</th>\n",
       "      <td>7887.037689</td>\n",
       "      <td>7887.061426</td>\n",
       "      <td>0.385449</td>\n",
       "      <td>3.702800e+06</td>\n",
       "      <td>1.273054e+06</td>\n",
       "      <td>1.187268e+06</td>\n",
       "      <td>1.031365e+05</td>\n",
       "      <td>1.274895e+06</td>\n",
       "      <td>8.881601e+05</td>\n",
       "      <td>3.917493e+05</td>\n",
       "      <td>30720.300559</td>\n",
       "      <td>1.40659</td>\n",
       "    </tr>\n",
       "    <tr>\n",
       "      <th>min</th>\n",
       "      <td>0.000000</td>\n",
       "      <td>0.000000</td>\n",
       "      <td>0.440000</td>\n",
       "      <td>8.456000e+01</td>\n",
       "      <td>0.000000e+00</td>\n",
       "      <td>0.000000e+00</td>\n",
       "      <td>0.000000e+00</td>\n",
       "      <td>0.000000e+00</td>\n",
       "      <td>0.000000e+00</td>\n",
       "      <td>0.000000e+00</td>\n",
       "      <td>0.000000</td>\n",
       "      <td>2015.00000</td>\n",
       "    </tr>\n",
       "    <tr>\n",
       "      <th>25%</th>\n",
       "      <td>6830.000000</td>\n",
       "      <td>6830.000000</td>\n",
       "      <td>1.110000</td>\n",
       "      <td>1.360812e+04</td>\n",
       "      <td>7.963700e+02</td>\n",
       "      <td>2.922520e+03</td>\n",
       "      <td>0.000000e+00</td>\n",
       "      <td>7.703330e+03</td>\n",
       "      <td>5.282770e+03</td>\n",
       "      <td>2.775100e+02</td>\n",
       "      <td>0.000000</td>\n",
       "      <td>2016.00000</td>\n",
       "    </tr>\n",
       "    <tr>\n",
       "      <th>50%</th>\n",
       "      <td>13660.000000</td>\n",
       "      <td>13660.000000</td>\n",
       "      <td>1.370000</td>\n",
       "      <td>1.198906e+05</td>\n",
       "      <td>1.004165e+04</td>\n",
       "      <td>2.569837e+04</td>\n",
       "      <td>1.928100e+02</td>\n",
       "      <td>4.776093e+04</td>\n",
       "      <td>3.223936e+04</td>\n",
       "      <td>4.313590e+03</td>\n",
       "      <td>0.000000</td>\n",
       "      <td>2017.00000</td>\n",
       "    </tr>\n",
       "    <tr>\n",
       "      <th>75%</th>\n",
       "      <td>20490.000000</td>\n",
       "      <td>20490.000000</td>\n",
       "      <td>1.640000</td>\n",
       "      <td>4.747300e+05</td>\n",
       "      <td>1.133227e+05</td>\n",
       "      <td>1.454874e+05</td>\n",
       "      <td>5.898840e+03</td>\n",
       "      <td>1.461028e+05</td>\n",
       "      <td>1.048429e+05</td>\n",
       "      <td>3.269381e+04</td>\n",
       "      <td>450.740000</td>\n",
       "      <td>2018.00000</td>\n",
       "    </tr>\n",
       "    <tr>\n",
       "      <th>max</th>\n",
       "      <td>27320.000000</td>\n",
       "      <td>27322.000000</td>\n",
       "      <td>3.250000</td>\n",
       "      <td>6.371614e+07</td>\n",
       "      <td>2.274362e+07</td>\n",
       "      <td>2.047057e+07</td>\n",
       "      <td>2.546439e+06</td>\n",
       "      <td>2.347299e+07</td>\n",
       "      <td>1.543625e+07</td>\n",
       "      <td>8.378356e+06</td>\n",
       "      <td>844929.830000</td>\n",
       "      <td>2019.00000</td>\n",
       "    </tr>\n",
       "  </tbody>\n",
       "</table>\n",
       "</div>"
      ],
      "text/plain": [
       "         Unnamed: 0       Unnamed  AveragePrice  Total Volume  Small/Medium  \\\n",
       "count  27321.000000  27321.000000  27321.000000  2.732100e+04  2.732100e+04   \n",
       "mean   13660.000000  13660.013799      1.400647  9.136115e+05  2.953402e+05   \n",
       "std     7887.037689   7887.061426      0.385449  3.702800e+06  1.273054e+06   \n",
       "min        0.000000      0.000000      0.440000  8.456000e+01  0.000000e+00   \n",
       "25%     6830.000000   6830.000000      1.110000  1.360812e+04  7.963700e+02   \n",
       "50%    13660.000000  13660.000000      1.370000  1.198906e+05  1.004165e+04   \n",
       "75%    20490.000000  20490.000000      1.640000  4.747300e+05  1.133227e+05   \n",
       "max    27320.000000  27322.000000      3.250000  6.371614e+07  2.274362e+07   \n",
       "\n",
       "              Large        XLarge    Total Bags    Small Bags       Large.1  \\\n",
       "count  2.732100e+04  2.732100e+04  2.732100e+04  2.732100e+04  2.732100e+04   \n",
       "mean   2.901264e+05  2.216030e+04  3.058950e+05  2.187128e+05  8.203135e+04   \n",
       "std    1.187268e+06  1.031365e+05  1.274895e+06  8.881601e+05  3.917493e+05   \n",
       "min    0.000000e+00  0.000000e+00  0.000000e+00  0.000000e+00  0.000000e+00   \n",
       "25%    2.922520e+03  0.000000e+00  7.703330e+03  5.282770e+03  2.775100e+02   \n",
       "50%    2.569837e+04  1.928100e+02  4.776093e+04  3.223936e+04  4.313590e+03   \n",
       "75%    1.454874e+05  5.898840e+03  1.461028e+05  1.048429e+05  3.269381e+04   \n",
       "max    2.047057e+07  2.546439e+06  2.347299e+07  1.543625e+07  8.378356e+06   \n",
       "\n",
       "         XLarge Bags         year  \n",
       "count   27321.000000  27321.00000  \n",
       "mean     5150.764599   2016.95659  \n",
       "std     30720.300559      1.40659  \n",
       "min         0.000000   2015.00000  \n",
       "25%         0.000000   2016.00000  \n",
       "50%         0.000000   2017.00000  \n",
       "75%       450.740000   2018.00000  \n",
       "max    844929.830000   2019.00000  "
      ]
     },
     "execution_count": 14,
     "metadata": {},
     "output_type": "execute_result"
    }
   ],
   "source": [
    "df.describe()"
   ]
  },
  {
   "cell_type": "markdown",
   "id": "05fa19e4",
   "metadata": {},
   "source": [
    "3. Data Prep for Analysis"
   ]
  },
  {
   "cell_type": "markdown",
   "id": "298c8d77",
   "metadata": {},
   "source": [
    "# Create a scatterplot using matplotlib for another look at how the chosen variables plot against each other.\n"
   ]
  },
  {
   "cell_type": "code",
   "execution_count": 18,
   "id": "73fd750c",
   "metadata": {},
   "outputs": [
    {
     "data": {
      "image/png": "[encoded data removed]",
      "text/plain": [
       "<Figure size 432x288 with 1 Axes>"
      ]
     },
     "metadata": {
      "needs_background": "light"
     },
     "output_type": "display_data"
    }
   ],
   "source": [
    "df.plot(x = 'Small/Medium', y='AveragePrice',style='o', color='cornflowerblue') # The style option creates a scatterplot; without it, we only have lines.\n",
    "plt.title('Average Price of Small/Medium Avocados')  \n",
    "plt.xlabel('Small/Medium')  \n",
    "plt.ylabel('AveragePrice')  \n",
    "plt.show()"
   ]
  },
  {
   "cell_type": "code",
   "execution_count": 19,
   "id": "68c47f69",
   "metadata": {},
   "outputs": [],
   "source": [
    "# Reshape the variables into NumPy arrays and put them into separate objects.\n",
    "\n",
    "X = df['Small/Medium'].values.reshape(-1,1)\n",
    "y = df['AveragePrice'].values.reshape(-1,1)"
   ]
  },
  {
   "cell_type": "code",
   "execution_count": 20,
   "id": "04ad42f1",
   "metadata": {},
   "outputs": [
    {
     "data": {
      "text/plain": [
       "array([[2819.5 ],\n",
       "       [1002.85],\n",
       "       [ 914.14],\n",
       "       ...,\n",
       "       [2194.49],\n",
       "       [1512.45],\n",
       "       [1478.79]])"
      ]
     },
     "execution_count": 20,
     "metadata": {},
     "output_type": "execute_result"
    }
   ],
   "source": [
    "X"
   ]
  },
  {
   "cell_type": "code",
   "execution_count": 21,
   "id": "b0da4924",
   "metadata": {},
   "outputs": [],
   "source": [
    "# Split data into a training set and a test set.\n",
    "\n",
    "X_train, X_test, y_train, y_test = train_test_split(X, y, test_size=0.3, random_state=0)"
   ]
  },
  {
   "cell_type": "markdown",
   "id": "53886869",
   "metadata": {},
   "source": [
    "4. Regression Analysis"
   ]
  },
  {
   "cell_type": "code",
   "execution_count": 22,
   "id": "3a9a4403",
   "metadata": {},
   "outputs": [],
   "source": [
    "# Create regression object\n",
    "regression = LinearRegression()"
   ]
  },
  {
   "cell_type": "code",
   "execution_count": 23,
   "id": "0eb73c7b",
   "metadata": {},
   "outputs": [
    {
     "data": {
      "text/plain": [
       "LinearRegression()"
      ]
     },
     "execution_count": 23,
     "metadata": {},
     "output_type": "execute_result"
    }
   ],
   "source": [
    "# Fit the regression to the training set of each variable.  This trains the model.\n",
    "regression.fit(X_train, y_train)"
   ]
  },
  {
   "cell_type": "code",
   "execution_count": 24,
   "id": "44fcec51",
   "metadata": {},
   "outputs": [],
   "source": [
    "# Apply model to x_test data to predict y values\n",
    "y_predicted = regression.predict(X_test)"
   ]
  },
  {
   "cell_type": "code",
   "execution_count": 26,
   "id": "1a4d98f9",
   "metadata": {},
   "outputs": [
    {
     "data": {
      "image/png": "[encoded data removed]",
      "text/plain": [
       "<Figure size 432x288 with 1 Axes>"
      ]
     },
     "metadata": {
      "needs_background": "light"
     },
     "output_type": "display_data"
    }
   ],
   "source": [
    "# Create a plot that shows the regression line from the model on the test set.\n",
    "plot_test = plt\n",
    "plot_test.scatter(X_test, y_test, color='mediumturquoise', s = 15)\n",
    "plot_test.plot(X_test, y_predicted, color='red', linewidth =3)\n",
    "plot_test.title('Total Volume vs Average Price (Test set)')\n",
    "plot_test.xlabel('TotalVolume')\n",
    "plot_test.ylabel('AveragePrice')\n",
    "plot_test.show()"
   ]
  },
  {
   "cell_type": "code",
   "execution_count": 27,
   "id": "1e3ceb9d",
   "metadata": {},
   "outputs": [],
   "source": [
    "# Check the slope, MSE and R2 score.\n",
    "# Create objects that contain the model summary statistics.\n",
    "rmse = mean_squared_error(y_test, y_predicted)\n",
    "r2 = r2_score(y_test, y_predicted)"
   ]
  },
  {
   "cell_type": "code",
   "execution_count": 28,
   "id": "be43e095",
   "metadata": {},
   "outputs": [
    {
     "name": "stdout",
     "output_type": "stream",
     "text": [
      "Slope: [[-6.15364509e-08]]\n",
      "Mean squared error:  0.1436873114472446\n",
      "R2 score:  0.042622689898977884\n"
     ]
    }
   ],
   "source": [
    "# Print the model summary statistics. This is where you evaluate the performance of the model.\n",
    "\n",
    "print('Slope:' ,regression.coef_)\n",
    "print('Mean squared error: ', rmse)\n",
    "print('R2 score: ', r2)"
   ]
  },
  {
   "cell_type": "code",
   "execution_count": 29,
   "id": "665b0288",
   "metadata": {},
   "outputs": [
    {
     "data": {
      "text/html": [
       "<div>\n",
       "<style scoped>\n",
       "    .dataframe tbody tr th:only-of-type {\n",
       "        vertical-align: middle;\n",
       "    }\n",
       "\n",
       "    .dataframe tbody tr th {\n",
       "        vertical-align: top;\n",
       "    }\n",
       "\n",
       "    .dataframe thead th {\n",
       "        text-align: right;\n",
       "    }\n",
       "</style>\n",
       "<table border=\"1\" class=\"dataframe\">\n",
       "  <thead>\n",
       "    <tr style=\"text-align: right;\">\n",
       "      <th></th>\n",
       "      <th>Actual</th>\n",
       "      <th>Predicted</th>\n",
       "    </tr>\n",
       "  </thead>\n",
       "  <tbody>\n",
       "    <tr>\n",
       "      <th>0</th>\n",
       "      <td>1.35</td>\n",
       "      <td>1.403264</td>\n",
       "    </tr>\n",
       "    <tr>\n",
       "      <th>1</th>\n",
       "      <td>1.59</td>\n",
       "      <td>1.417271</td>\n",
       "    </tr>\n",
       "    <tr>\n",
       "      <th>2</th>\n",
       "      <td>2.08</td>\n",
       "      <td>1.418811</td>\n",
       "    </tr>\n",
       "    <tr>\n",
       "      <th>3</th>\n",
       "      <td>1.23</td>\n",
       "      <td>1.415868</td>\n",
       "    </tr>\n",
       "    <tr>\n",
       "      <th>4</th>\n",
       "      <td>1.04</td>\n",
       "      <td>1.402775</td>\n",
       "    </tr>\n",
       "    <tr>\n",
       "      <th>5</th>\n",
       "      <td>1.12</td>\n",
       "      <td>1.390526</td>\n",
       "    </tr>\n",
       "    <tr>\n",
       "      <th>6</th>\n",
       "      <td>0.96</td>\n",
       "      <td>1.413694</td>\n",
       "    </tr>\n",
       "    <tr>\n",
       "      <th>7</th>\n",
       "      <td>1.15</td>\n",
       "      <td>1.418805</td>\n",
       "    </tr>\n",
       "    <tr>\n",
       "      <th>8</th>\n",
       "      <td>1.11</td>\n",
       "      <td>1.419144</td>\n",
       "    </tr>\n",
       "    <tr>\n",
       "      <th>9</th>\n",
       "      <td>1.60</td>\n",
       "      <td>1.419061</td>\n",
       "    </tr>\n",
       "    <tr>\n",
       "      <th>10</th>\n",
       "      <td>1.25</td>\n",
       "      <td>1.415134</td>\n",
       "    </tr>\n",
       "    <tr>\n",
       "      <th>11</th>\n",
       "      <td>1.53</td>\n",
       "      <td>1.419332</td>\n",
       "    </tr>\n",
       "    <tr>\n",
       "      <th>12</th>\n",
       "      <td>0.81</td>\n",
       "      <td>1.380729</td>\n",
       "    </tr>\n",
       "    <tr>\n",
       "      <th>13</th>\n",
       "      <td>1.47</td>\n",
       "      <td>1.419402</td>\n",
       "    </tr>\n",
       "    <tr>\n",
       "      <th>14</th>\n",
       "      <td>1.95</td>\n",
       "      <td>1.419343</td>\n",
       "    </tr>\n",
       "    <tr>\n",
       "      <th>15</th>\n",
       "      <td>1.02</td>\n",
       "      <td>1.411729</td>\n",
       "    </tr>\n",
       "    <tr>\n",
       "      <th>16</th>\n",
       "      <td>1.10</td>\n",
       "      <td>1.413968</td>\n",
       "    </tr>\n",
       "    <tr>\n",
       "      <th>17</th>\n",
       "      <td>1.19</td>\n",
       "      <td>1.416692</td>\n",
       "    </tr>\n",
       "    <tr>\n",
       "      <th>18</th>\n",
       "      <td>1.07</td>\n",
       "      <td>1.410822</td>\n",
       "    </tr>\n",
       "    <tr>\n",
       "      <th>19</th>\n",
       "      <td>1.32</td>\n",
       "      <td>1.419067</td>\n",
       "    </tr>\n",
       "    <tr>\n",
       "      <th>20</th>\n",
       "      <td>1.46</td>\n",
       "      <td>1.414667</td>\n",
       "    </tr>\n",
       "    <tr>\n",
       "      <th>21</th>\n",
       "      <td>1.76</td>\n",
       "      <td>1.418846</td>\n",
       "    </tr>\n",
       "    <tr>\n",
       "      <th>22</th>\n",
       "      <td>1.54</td>\n",
       "      <td>1.419365</td>\n",
       "    </tr>\n",
       "    <tr>\n",
       "      <th>23</th>\n",
       "      <td>1.44</td>\n",
       "      <td>1.419126</td>\n",
       "    </tr>\n",
       "    <tr>\n",
       "      <th>24</th>\n",
       "      <td>1.01</td>\n",
       "      <td>1.387472</td>\n",
       "    </tr>\n",
       "    <tr>\n",
       "      <th>25</th>\n",
       "      <td>1.32</td>\n",
       "      <td>1.416051</td>\n",
       "    </tr>\n",
       "    <tr>\n",
       "      <th>26</th>\n",
       "      <td>1.19</td>\n",
       "      <td>1.419185</td>\n",
       "    </tr>\n",
       "    <tr>\n",
       "      <th>27</th>\n",
       "      <td>1.40</td>\n",
       "      <td>1.419408</td>\n",
       "    </tr>\n",
       "    <tr>\n",
       "      <th>28</th>\n",
       "      <td>1.09</td>\n",
       "      <td>1.411013</td>\n",
       "    </tr>\n",
       "    <tr>\n",
       "      <th>29</th>\n",
       "      <td>1.34</td>\n",
       "      <td>1.419175</td>\n",
       "    </tr>\n",
       "  </tbody>\n",
       "</table>\n",
       "</div>"
      ],
      "text/plain": [
       "    Actual  Predicted\n",
       "0     1.35   1.403264\n",
       "1     1.59   1.417271\n",
       "2     2.08   1.418811\n",
       "3     1.23   1.415868\n",
       "4     1.04   1.402775\n",
       "5     1.12   1.390526\n",
       "6     0.96   1.413694\n",
       "7     1.15   1.418805\n",
       "8     1.11   1.419144\n",
       "9     1.60   1.419061\n",
       "10    1.25   1.415134\n",
       "11    1.53   1.419332\n",
       "12    0.81   1.380729\n",
       "13    1.47   1.419402\n",
       "14    1.95   1.419343\n",
       "15    1.02   1.411729\n",
       "16    1.10   1.413968\n",
       "17    1.19   1.416692\n",
       "18    1.07   1.410822\n",
       "19    1.32   1.419067\n",
       "20    1.46   1.414667\n",
       "21    1.76   1.418846\n",
       "22    1.54   1.419365\n",
       "23    1.44   1.419126\n",
       "24    1.01   1.387472\n",
       "25    1.32   1.416051\n",
       "26    1.19   1.419185\n",
       "27    1.40   1.419408\n",
       "28    1.09   1.411013\n",
       "29    1.34   1.419175"
      ]
     },
     "execution_count": 29,
     "metadata": {},
     "output_type": "execute_result"
    }
   ],
   "source": [
    "# Create a dataframe comparing the actual and predicted values of y.\n",
    "\n",
    "data = pd.DataFrame({'Actual': y_test.flatten(), 'Predicted': y_predicted.flatten()})\n",
    "data.head(30)"
   ]
  },
  {
   "cell_type": "markdown",
   "id": "ced1e881",
   "metadata": {},
   "source": [
    "Summary statistics of model indicates inaccuracy.\n",
    "\n",
    "r2 score of .04 indicates a poor fit. rMSE is 0.14 \n",
    "\n",
    "slope of -6.15 indicates that as Total Volume decreases, the Average Price increases "
   ]
  },
  {
   "cell_type": "code",
   "execution_count": 30,
   "id": "be6d2856",
   "metadata": {},
   "outputs": [],
   "source": [
    "# Predict on the training set\n",
    "\n",
    "y_predicted_train = regression.predict(X_train) # This is predicting X_train!"
   ]
  },
  {
   "cell_type": "code",
   "execution_count": 31,
   "id": "689184c0",
   "metadata": {},
   "outputs": [],
   "source": [
    "rmse = mean_squared_error(y_train, y_predicted_train)\n",
    "r2 = r2_score(y_train, y_predicted_train)"
   ]
  },
  {
   "cell_type": "code",
   "execution_count": 32,
   "id": "9ae1a45e",
   "metadata": {},
   "outputs": [
    {
     "name": "stdout",
     "output_type": "stream",
     "text": [
      "Slope: [[-6.15364509e-08]]\n",
      "Mean squared error:  0.14170894683791505\n",
      "R2 score:  0.04194489708058635\n"
     ]
    }
   ],
   "source": [
    "print('Slope:' ,regression.coef_)\n",
    "print('Mean squared error: ', rmse)\n",
    "print('R2 score: ', r2)"
   ]
  },
  {
   "cell_type": "code",
   "execution_count": 36,
   "id": "5ec3046f",
   "metadata": {},
   "outputs": [
    {
     "data": {
      "image/png": "[encoded data removed]",
      "text/plain": [
       "<Figure size 432x288 with 1 Axes>"
      ]
     },
     "metadata": {
      "needs_background": "light"
     },
     "output_type": "display_data"
    }
   ],
   "source": [
    "plot_test = plt\n",
    "plot_test.scatter(X_train, y_train, color='royalblue', s = 15)\n",
    "plot_test.plot(X_train, y_predicted_train, color='red', linewidth =3)\n",
    "plot_test.title('Total Volume vs Average Price (Train set)')\n",
    "plot_test.xlabel('Total Volume')\n",
    "plot_test.ylabel('AveragePrice')\n",
    "plot_test.show()"
   ]
  },
  {
   "cell_type": "markdown",
   "id": "cd140722",
   "metadata": {},
   "source": [
    "Regression on df of Total Volume of 1.5 and higher"
   ]
  },
  {
   "cell_type": "code",
   "execution_count": 37,
   "id": "5aafb44a",
   "metadata": {},
   "outputs": [
    {
     "data": {
      "text/html": [
       "<div>\n",
       "<style scoped>\n",
       "    .dataframe tbody tr th:only-of-type {\n",
       "        vertical-align: middle;\n",
       "    }\n",
       "\n",
       "    .dataframe tbody tr th {\n",
       "        vertical-align: top;\n",
       "    }\n",
       "\n",
       "    .dataframe thead th {\n",
       "        text-align: right;\n",
       "    }\n",
       "</style>\n",
       "<table border=\"1\" class=\"dataframe\">\n",
       "  <thead>\n",
       "    <tr style=\"text-align: right;\">\n",
       "      <th></th>\n",
       "      <th>Unnamed: 0</th>\n",
       "      <th>Unnamed</th>\n",
       "      <th>Date</th>\n",
       "      <th>AveragePrice</th>\n",
       "      <th>Total Volume</th>\n",
       "      <th>Small/Medium</th>\n",
       "      <th>Large</th>\n",
       "      <th>XLarge</th>\n",
       "      <th>Total Bags</th>\n",
       "      <th>Small Bags</th>\n",
       "      <th>Large.1</th>\n",
       "      <th>XLarge Bags</th>\n",
       "      <th>type</th>\n",
       "      <th>year</th>\n",
       "      <th>region</th>\n",
       "    </tr>\n",
       "  </thead>\n",
       "  <tbody>\n",
       "    <tr>\n",
       "      <th>0</th>\n",
       "      <td>0</td>\n",
       "      <td>0</td>\n",
       "      <td>2015-01-04</td>\n",
       "      <td>1.22</td>\n",
       "      <td>40873.28</td>\n",
       "      <td>2819.50</td>\n",
       "      <td>28287.42</td>\n",
       "      <td>49.90</td>\n",
       "      <td>9716.46</td>\n",
       "      <td>9186.93</td>\n",
       "      <td>529.53</td>\n",
       "      <td>0.0</td>\n",
       "      <td>conventional</td>\n",
       "      <td>2015</td>\n",
       "      <td>Albany</td>\n",
       "    </tr>\n",
       "    <tr>\n",
       "      <th>1</th>\n",
       "      <td>1</td>\n",
       "      <td>1</td>\n",
       "      <td>2015-01-11</td>\n",
       "      <td>1.24</td>\n",
       "      <td>41195.08</td>\n",
       "      <td>1002.85</td>\n",
       "      <td>31640.34</td>\n",
       "      <td>127.12</td>\n",
       "      <td>8424.77</td>\n",
       "      <td>8036.04</td>\n",
       "      <td>388.73</td>\n",
       "      <td>0.0</td>\n",
       "      <td>conventional</td>\n",
       "      <td>2015</td>\n",
       "      <td>Albany</td>\n",
       "    </tr>\n",
       "    <tr>\n",
       "      <th>2</th>\n",
       "      <td>2</td>\n",
       "      <td>2</td>\n",
       "      <td>2015-01-18</td>\n",
       "      <td>1.17</td>\n",
       "      <td>44511.28</td>\n",
       "      <td>914.14</td>\n",
       "      <td>31540.32</td>\n",
       "      <td>135.77</td>\n",
       "      <td>11921.05</td>\n",
       "      <td>11651.09</td>\n",
       "      <td>269.96</td>\n",
       "      <td>0.0</td>\n",
       "      <td>conventional</td>\n",
       "      <td>2015</td>\n",
       "      <td>Albany</td>\n",
       "    </tr>\n",
       "    <tr>\n",
       "      <th>3</th>\n",
       "      <td>3</td>\n",
       "      <td>3</td>\n",
       "      <td>2015-01-25</td>\n",
       "      <td>1.06</td>\n",
       "      <td>45147.50</td>\n",
       "      <td>941.38</td>\n",
       "      <td>33196.16</td>\n",
       "      <td>164.14</td>\n",
       "      <td>10845.82</td>\n",
       "      <td>10103.35</td>\n",
       "      <td>742.47</td>\n",
       "      <td>0.0</td>\n",
       "      <td>conventional</td>\n",
       "      <td>2015</td>\n",
       "      <td>Albany</td>\n",
       "    </tr>\n",
       "    <tr>\n",
       "      <th>4</th>\n",
       "      <td>4</td>\n",
       "      <td>4</td>\n",
       "      <td>2015-02-01</td>\n",
       "      <td>0.99</td>\n",
       "      <td>70873.60</td>\n",
       "      <td>1353.90</td>\n",
       "      <td>60017.20</td>\n",
       "      <td>179.32</td>\n",
       "      <td>9323.18</td>\n",
       "      <td>9170.82</td>\n",
       "      <td>152.36</td>\n",
       "      <td>0.0</td>\n",
       "      <td>conventional</td>\n",
       "      <td>2015</td>\n",
       "      <td>Albany</td>\n",
       "    </tr>\n",
       "    <tr>\n",
       "      <th>...</th>\n",
       "      <td>...</td>\n",
       "      <td>...</td>\n",
       "      <td>...</td>\n",
       "      <td>...</td>\n",
       "      <td>...</td>\n",
       "      <td>...</td>\n",
       "      <td>...</td>\n",
       "      <td>...</td>\n",
       "      <td>...</td>\n",
       "      <td>...</td>\n",
       "      <td>...</td>\n",
       "      <td>...</td>\n",
       "      <td>...</td>\n",
       "      <td>...</td>\n",
       "      <td>...</td>\n",
       "    </tr>\n",
       "    <tr>\n",
       "      <th>27316</th>\n",
       "      <td>27316</td>\n",
       "      <td>27318</td>\n",
       "      <td>2015-11-22</td>\n",
       "      <td>1.97</td>\n",
       "      <td>6249.43</td>\n",
       "      <td>1733.40</td>\n",
       "      <td>2873.92</td>\n",
       "      <td>30.95</td>\n",
       "      <td>1611.16</td>\n",
       "      <td>1590.00</td>\n",
       "      <td>21.16</td>\n",
       "      <td>0.0</td>\n",
       "      <td>organic</td>\n",
       "      <td>2015</td>\n",
       "      <td>WestTexNewMexico</td>\n",
       "    </tr>\n",
       "    <tr>\n",
       "      <th>27317</th>\n",
       "      <td>27317</td>\n",
       "      <td>27319</td>\n",
       "      <td>2015-11-29</td>\n",
       "      <td>2.08</td>\n",
       "      <td>4638.10</td>\n",
       "      <td>1395.02</td>\n",
       "      <td>2238.04</td>\n",
       "      <td>61.71</td>\n",
       "      <td>943.33</td>\n",
       "      <td>943.33</td>\n",
       "      <td>0.00</td>\n",
       "      <td>0.0</td>\n",
       "      <td>organic</td>\n",
       "      <td>2015</td>\n",
       "      <td>WestTexNewMexico</td>\n",
       "    </tr>\n",
       "    <tr>\n",
       "      <th>27318</th>\n",
       "      <td>27318</td>\n",
       "      <td>27320</td>\n",
       "      <td>2015-12-13</td>\n",
       "      <td>1.80</td>\n",
       "      <td>7836.65</td>\n",
       "      <td>2194.49</td>\n",
       "      <td>2981.01</td>\n",
       "      <td>25.97</td>\n",
       "      <td>2635.18</td>\n",
       "      <td>2598.45</td>\n",
       "      <td>36.73</td>\n",
       "      <td>0.0</td>\n",
       "      <td>organic</td>\n",
       "      <td>2015</td>\n",
       "      <td>WestTexNewMexico</td>\n",
       "    </tr>\n",
       "    <tr>\n",
       "      <th>27319</th>\n",
       "      <td>27319</td>\n",
       "      <td>27321</td>\n",
       "      <td>2015-12-20</td>\n",
       "      <td>1.92</td>\n",
       "      <td>6255.19</td>\n",
       "      <td>1512.45</td>\n",
       "      <td>2407.32</td>\n",
       "      <td>11.78</td>\n",
       "      <td>2323.64</td>\n",
       "      <td>2213.72</td>\n",
       "      <td>109.92</td>\n",
       "      <td>0.0</td>\n",
       "      <td>organic</td>\n",
       "      <td>2015</td>\n",
       "      <td>WestTexNewMexico</td>\n",
       "    </tr>\n",
       "    <tr>\n",
       "      <th>27320</th>\n",
       "      <td>27320</td>\n",
       "      <td>27322</td>\n",
       "      <td>2015-12-27</td>\n",
       "      <td>1.81</td>\n",
       "      <td>7155.63</td>\n",
       "      <td>1478.79</td>\n",
       "      <td>2629.64</td>\n",
       "      <td>14.10</td>\n",
       "      <td>3033.10</td>\n",
       "      <td>2855.55</td>\n",
       "      <td>177.55</td>\n",
       "      <td>0.0</td>\n",
       "      <td>organic</td>\n",
       "      <td>2015</td>\n",
       "      <td>WestTexNewMexico</td>\n",
       "    </tr>\n",
       "  </tbody>\n",
       "</table>\n",
       "<p>27321 rows × 15 columns</p>\n",
       "</div>"
      ],
      "text/plain": [
       "       Unnamed: 0  Unnamed        Date  AveragePrice  Total Volume  \\\n",
       "0               0        0  2015-01-04          1.22      40873.28   \n",
       "1               1        1  2015-01-11          1.24      41195.08   \n",
       "2               2        2  2015-01-18          1.17      44511.28   \n",
       "3               3        3  2015-01-25          1.06      45147.50   \n",
       "4               4        4  2015-02-01          0.99      70873.60   \n",
       "...           ...      ...         ...           ...           ...   \n",
       "27316       27316    27318  2015-11-22          1.97       6249.43   \n",
       "27317       27317    27319  2015-11-29          2.08       4638.10   \n",
       "27318       27318    27320  2015-12-13          1.80       7836.65   \n",
       "27319       27319    27321  2015-12-20          1.92       6255.19   \n",
       "27320       27320    27322  2015-12-27          1.81       7155.63   \n",
       "\n",
       "       Small/Medium     Large  XLarge  Total Bags  Small Bags  Large.1  \\\n",
       "0           2819.50  28287.42   49.90     9716.46     9186.93   529.53   \n",
       "1           1002.85  31640.34  127.12     8424.77     8036.04   388.73   \n",
       "2            914.14  31540.32  135.77    11921.05    11651.09   269.96   \n",
       "3            941.38  33196.16  164.14    10845.82    10103.35   742.47   \n",
       "4           1353.90  60017.20  179.32     9323.18     9170.82   152.36   \n",
       "...             ...       ...     ...         ...         ...      ...   \n",
       "27316       1733.40   2873.92   30.95     1611.16     1590.00    21.16   \n",
       "27317       1395.02   2238.04   61.71      943.33      943.33     0.00   \n",
       "27318       2194.49   2981.01   25.97     2635.18     2598.45    36.73   \n",
       "27319       1512.45   2407.32   11.78     2323.64     2213.72   109.92   \n",
       "27320       1478.79   2629.64   14.10     3033.10     2855.55   177.55   \n",
       "\n",
       "       XLarge Bags          type  year            region  \n",
       "0              0.0  conventional  2015            Albany  \n",
       "1              0.0  conventional  2015            Albany  \n",
       "2              0.0  conventional  2015            Albany  \n",
       "3              0.0  conventional  2015            Albany  \n",
       "4              0.0  conventional  2015            Albany  \n",
       "...            ...           ...   ...               ...  \n",
       "27316          0.0       organic  2015  WestTexNewMexico  \n",
       "27317          0.0       organic  2015  WestTexNewMexico  \n",
       "27318          0.0       organic  2015  WestTexNewMexico  \n",
       "27319          0.0       organic  2015  WestTexNewMexico  \n",
       "27320          0.0       organic  2015  WestTexNewMexico  \n",
       "\n",
       "[27321 rows x 15 columns]"
      ]
     },
     "execution_count": 37,
     "metadata": {},
     "output_type": "execute_result"
    }
   ],
   "source": [
    "df2 = df[df['Total Volume']>=1.5]\n",
    "df2"
   ]
  },
  {
   "cell_type": "code",
   "execution_count": 38,
   "id": "bc7433ad",
   "metadata": {},
   "outputs": [
    {
     "data": {
      "text/html": [
       "<div>\n",
       "<style scoped>\n",
       "    .dataframe tbody tr th:only-of-type {\n",
       "        vertical-align: middle;\n",
       "    }\n",
       "\n",
       "    .dataframe tbody tr th {\n",
       "        vertical-align: top;\n",
       "    }\n",
       "\n",
       "    .dataframe thead th {\n",
       "        text-align: right;\n",
       "    }\n",
       "</style>\n",
       "<table border=\"1\" class=\"dataframe\">\n",
       "  <thead>\n",
       "    <tr style=\"text-align: right;\">\n",
       "      <th></th>\n",
       "      <th>Unnamed: 0</th>\n",
       "      <th>Unnamed</th>\n",
       "      <th>AveragePrice</th>\n",
       "      <th>Total Volume</th>\n",
       "      <th>Small/Medium</th>\n",
       "      <th>Large</th>\n",
       "      <th>XLarge</th>\n",
       "      <th>Total Bags</th>\n",
       "      <th>Small Bags</th>\n",
       "      <th>Large.1</th>\n",
       "      <th>XLarge Bags</th>\n",
       "      <th>year</th>\n",
       "    </tr>\n",
       "  </thead>\n",
       "  <tbody>\n",
       "    <tr>\n",
       "      <th>count</th>\n",
       "      <td>27321.000000</td>\n",
       "      <td>27321.000000</td>\n",
       "      <td>27321.000000</td>\n",
       "      <td>2.732100e+04</td>\n",
       "      <td>2.732100e+04</td>\n",
       "      <td>2.732100e+04</td>\n",
       "      <td>2.732100e+04</td>\n",
       "      <td>2.732100e+04</td>\n",
       "      <td>2.732100e+04</td>\n",
       "      <td>2.732100e+04</td>\n",
       "      <td>27321.000000</td>\n",
       "      <td>27321.00000</td>\n",
       "    </tr>\n",
       "    <tr>\n",
       "      <th>mean</th>\n",
       "      <td>13660.000000</td>\n",
       "      <td>13660.013799</td>\n",
       "      <td>1.400647</td>\n",
       "      <td>9.136115e+05</td>\n",
       "      <td>2.953402e+05</td>\n",
       "      <td>2.901264e+05</td>\n",
       "      <td>2.216030e+04</td>\n",
       "      <td>3.058950e+05</td>\n",
       "      <td>2.187128e+05</td>\n",
       "      <td>8.203135e+04</td>\n",
       "      <td>5150.764599</td>\n",
       "      <td>2016.95659</td>\n",
       "    </tr>\n",
       "    <tr>\n",
       "      <th>std</th>\n",
       "      <td>7887.037689</td>\n",
       "      <td>7887.061426</td>\n",
       "      <td>0.385449</td>\n",
       "      <td>3.702800e+06</td>\n",
       "      <td>1.273054e+06</td>\n",
       "      <td>1.187268e+06</td>\n",
       "      <td>1.031365e+05</td>\n",
       "      <td>1.274895e+06</td>\n",
       "      <td>8.881601e+05</td>\n",
       "      <td>3.917493e+05</td>\n",
       "      <td>30720.300559</td>\n",
       "      <td>1.40659</td>\n",
       "    </tr>\n",
       "    <tr>\n",
       "      <th>min</th>\n",
       "      <td>0.000000</td>\n",
       "      <td>0.000000</td>\n",
       "      <td>0.440000</td>\n",
       "      <td>8.456000e+01</td>\n",
       "      <td>0.000000e+00</td>\n",
       "      <td>0.000000e+00</td>\n",
       "      <td>0.000000e+00</td>\n",
       "      <td>0.000000e+00</td>\n",
       "      <td>0.000000e+00</td>\n",
       "      <td>0.000000e+00</td>\n",
       "      <td>0.000000</td>\n",
       "      <td>2015.00000</td>\n",
       "    </tr>\n",
       "    <tr>\n",
       "      <th>25%</th>\n",
       "      <td>6830.000000</td>\n",
       "      <td>6830.000000</td>\n",
       "      <td>1.110000</td>\n",
       "      <td>1.360812e+04</td>\n",
       "      <td>7.963700e+02</td>\n",
       "      <td>2.922520e+03</td>\n",
       "      <td>0.000000e+00</td>\n",
       "      <td>7.703330e+03</td>\n",
       "      <td>5.282770e+03</td>\n",
       "      <td>2.775100e+02</td>\n",
       "      <td>0.000000</td>\n",
       "      <td>2016.00000</td>\n",
       "    </tr>\n",
       "    <tr>\n",
       "      <th>50%</th>\n",
       "      <td>13660.000000</td>\n",
       "      <td>13660.000000</td>\n",
       "      <td>1.370000</td>\n",
       "      <td>1.198906e+05</td>\n",
       "      <td>1.004165e+04</td>\n",
       "      <td>2.569837e+04</td>\n",
       "      <td>1.928100e+02</td>\n",
       "      <td>4.776093e+04</td>\n",
       "      <td>3.223936e+04</td>\n",
       "      <td>4.313590e+03</td>\n",
       "      <td>0.000000</td>\n",
       "      <td>2017.00000</td>\n",
       "    </tr>\n",
       "    <tr>\n",
       "      <th>75%</th>\n",
       "      <td>20490.000000</td>\n",
       "      <td>20490.000000</td>\n",
       "      <td>1.640000</td>\n",
       "      <td>4.747300e+05</td>\n",
       "      <td>1.133227e+05</td>\n",
       "      <td>1.454874e+05</td>\n",
       "      <td>5.898840e+03</td>\n",
       "      <td>1.461028e+05</td>\n",
       "      <td>1.048429e+05</td>\n",
       "      <td>3.269381e+04</td>\n",
       "      <td>450.740000</td>\n",
       "      <td>2018.00000</td>\n",
       "    </tr>\n",
       "    <tr>\n",
       "      <th>max</th>\n",
       "      <td>27320.000000</td>\n",
       "      <td>27322.000000</td>\n",
       "      <td>3.250000</td>\n",
       "      <td>6.371614e+07</td>\n",
       "      <td>2.274362e+07</td>\n",
       "      <td>2.047057e+07</td>\n",
       "      <td>2.546439e+06</td>\n",
       "      <td>2.347299e+07</td>\n",
       "      <td>1.543625e+07</td>\n",
       "      <td>8.378356e+06</td>\n",
       "      <td>844929.830000</td>\n",
       "      <td>2019.00000</td>\n",
       "    </tr>\n",
       "  </tbody>\n",
       "</table>\n",
       "</div>"
      ],
      "text/plain": [
       "         Unnamed: 0       Unnamed  AveragePrice  Total Volume  Small/Medium  \\\n",
       "count  27321.000000  27321.000000  27321.000000  2.732100e+04  2.732100e+04   \n",
       "mean   13660.000000  13660.013799      1.400647  9.136115e+05  2.953402e+05   \n",
       "std     7887.037689   7887.061426      0.385449  3.702800e+06  1.273054e+06   \n",
       "min        0.000000      0.000000      0.440000  8.456000e+01  0.000000e+00   \n",
       "25%     6830.000000   6830.000000      1.110000  1.360812e+04  7.963700e+02   \n",
       "50%    13660.000000  13660.000000      1.370000  1.198906e+05  1.004165e+04   \n",
       "75%    20490.000000  20490.000000      1.640000  4.747300e+05  1.133227e+05   \n",
       "max    27320.000000  27322.000000      3.250000  6.371614e+07  2.274362e+07   \n",
       "\n",
       "              Large        XLarge    Total Bags    Small Bags       Large.1  \\\n",
       "count  2.732100e+04  2.732100e+04  2.732100e+04  2.732100e+04  2.732100e+04   \n",
       "mean   2.901264e+05  2.216030e+04  3.058950e+05  2.187128e+05  8.203135e+04   \n",
       "std    1.187268e+06  1.031365e+05  1.274895e+06  8.881601e+05  3.917493e+05   \n",
       "min    0.000000e+00  0.000000e+00  0.000000e+00  0.000000e+00  0.000000e+00   \n",
       "25%    2.922520e+03  0.000000e+00  7.703330e+03  5.282770e+03  2.775100e+02   \n",
       "50%    2.569837e+04  1.928100e+02  4.776093e+04  3.223936e+04  4.313590e+03   \n",
       "75%    1.454874e+05  5.898840e+03  1.461028e+05  1.048429e+05  3.269381e+04   \n",
       "max    2.047057e+07  2.546439e+06  2.347299e+07  1.543625e+07  8.378356e+06   \n",
       "\n",
       "         XLarge Bags         year  \n",
       "count   27321.000000  27321.00000  \n",
       "mean     5150.764599   2016.95659  \n",
       "std     30720.300559      1.40659  \n",
       "min         0.000000   2015.00000  \n",
       "25%         0.000000   2016.00000  \n",
       "50%         0.000000   2017.00000  \n",
       "75%       450.740000   2018.00000  \n",
       "max    844929.830000   2019.00000  "
      ]
     },
     "execution_count": 38,
     "metadata": {},
     "output_type": "execute_result"
    }
   ],
   "source": [
    "df2.describe()"
   ]
  },
  {
   "cell_type": "code",
   "execution_count": 40,
   "id": "2fc0e7f7",
   "metadata": {},
   "outputs": [
    {
     "data": {
      "image/png": "[encoded data removed]",
      "text/plain": [
       "<Figure size 432x288 with 1 Axes>"
      ]
     },
     "metadata": {
      "needs_background": "light"
     },
     "output_type": "display_data"
    }
   ],
   "source": [
    "# Create a scatterplot using matplotlib for another look at how the chosen variables plot against each other.\n",
    "\n",
    "df2.plot(x = 'Total Volume', y='AveragePrice',style='o', color='blueviolet') # The style option creates a scatterplot; without it, we only have lines.\n",
    "plt.title('Total Volume vs Average Price')  \n",
    "plt.xlabel('Total Volume')  \n",
    "plt.ylabel('AveragePrice')  \n",
    "plt.show()"
   ]
  },
  {
   "cell_type": "code",
   "execution_count": 41,
   "id": "c3a58662",
   "metadata": {},
   "outputs": [],
   "source": [
    "# Reshape the variables into NumPy arrays and put them into separate objects.\n",
    "X = df2['Total Volume'].values.reshape(-1,1)\n",
    "y = df2['AveragePrice'].values.reshape(-1,1)"
   ]
  },
  {
   "cell_type": "code",
   "execution_count": 42,
   "id": "e279bdc6",
   "metadata": {},
   "outputs": [
    {
     "data": {
      "text/plain": [
       "array([[40873.28],\n",
       "       [41195.08],\n",
       "       [44511.28],\n",
       "       ...,\n",
       "       [ 7836.65],\n",
       "       [ 6255.19],\n",
       "       [ 7155.63]])"
      ]
     },
     "execution_count": 42,
     "metadata": {},
     "output_type": "execute_result"
    }
   ],
   "source": [
    "X"
   ]
  },
  {
   "cell_type": "code",
   "execution_count": 43,
   "id": "ffe8760c",
   "metadata": {},
   "outputs": [
    {
     "data": {
      "text/plain": [
       "array([[1.22],\n",
       "       [1.24],\n",
       "       [1.17],\n",
       "       ...,\n",
       "       [1.8 ],\n",
       "       [1.92],\n",
       "       [1.81]])"
      ]
     },
     "execution_count": 43,
     "metadata": {},
     "output_type": "execute_result"
    }
   ],
   "source": [
    "y"
   ]
  },
  {
   "cell_type": "code",
   "execution_count": 44,
   "id": "89f61518",
   "metadata": {},
   "outputs": [],
   "source": [
    "# Split data into a training set and a test set.  Using test_train_split\n",
    "X_train,X_test,y_train,y_test = train_test_split(X,y,test_size = 0.3,random_state = 0)"
   ]
  },
  {
   "cell_type": "code",
   "execution_count": 45,
   "id": "13130695",
   "metadata": {},
   "outputs": [],
   "source": [
    "# 4. Regression Analysis\n",
    "\n",
    "# Create regression object\n",
    "regression = LinearRegression()"
   ]
  },
  {
   "cell_type": "code",
   "execution_count": 46,
   "id": "0fd27020",
   "metadata": {},
   "outputs": [
    {
     "data": {
      "text/plain": [
       "LinearRegression()"
      ]
     },
     "execution_count": 46,
     "metadata": {},
     "output_type": "execute_result"
    }
   ],
   "source": [
    "# Fit the regression to the training set of each variable.  This trains the model.\n",
    "regression.fit(X_train, y_train)"
   ]
  },
  {
   "cell_type": "code",
   "execution_count": 47,
   "id": "ae505c23",
   "metadata": {},
   "outputs": [],
   "source": [
    "# Apply model to x_test data to predict y values\n",
    "y_predicted = regression.predict(X_test)"
   ]
  },
  {
   "cell_type": "code",
   "execution_count": 48,
   "id": "8a73b31d",
   "metadata": {},
   "outputs": [
    {
     "data": {
      "image/png": "[encoded data removed]",
      "text/plain": [
       "<Figure size 432x288 with 1 Axes>"
      ]
     },
     "metadata": {
      "needs_background": "light"
     },
     "output_type": "display_data"
    }
   ],
   "source": [
    "# Create a plot that shows the regression line from the model on the test set.\n",
    "plot_test = plt\n",
    "plot_test.scatter(X_test, y_test, color='lightskyblue', s = 15)\n",
    "plot_test.plot(X_test, y_predicted, color='red', linewidth =3)\n",
    "plot_test.title('Total Volume vs Average Price(Test set)')\n",
    "plot_test.xlabel('Total Volume')\n",
    "plot_test.ylabel('AveragePrice')\n",
    "plot_test.show()"
   ]
  },
  {
   "cell_type": "code",
   "execution_count": 49,
   "id": "ae7abd21",
   "metadata": {},
   "outputs": [],
   "source": [
    "# Check the slope, MSE and R2 score.\n",
    "# Create objects that contain the model summary statistics.\n",
    "rmse = mean_squared_error(y_test, y_predicted)\n",
    "r2 = r2_score(y_test, y_predicted)"
   ]
  },
  {
   "cell_type": "code",
   "execution_count": 50,
   "id": "7c7ca44d",
   "metadata": {},
   "outputs": [
    {
     "name": "stdout",
     "output_type": "stream",
     "text": [
      "Slope: [[-1.92881397e-08]]\n",
      "Mean squared error:  0.1448711336980263\n",
      "R2 score:  0.03473497489703603\n"
     ]
    }
   ],
   "source": [
    "# Print the model summary statistics. This is where you evaluate the performance of the model.\n",
    "\n",
    "print('Slope:' ,regression.coef_)\n",
    "print('Mean squared error: ', rmse)\n",
    "print('R2 score: ', r2)"
   ]
  },
  {
   "cell_type": "code",
   "execution_count": 54,
   "id": "bb18ffcd",
   "metadata": {},
   "outputs": [
    {
     "data": {
      "image/png": "[encoded data removed]",
      "text/plain": [
       "<Figure size 432x288 with 1 Axes>"
      ]
     },
     "metadata": {
      "needs_background": "light"
     },
     "output_type": "display_data"
    }
   ],
   "source": [
    "# Create a scatterplot using matplotlib for another look at how the chosen variables plot against each other.\n",
    "\n",
    "df.plot(x = 'XLarge', y='AveragePrice',style='o', color='limegreen') # The style option creates a scatterplot; without it, we only have lines.\n",
    "plt.title('XLarge vs Average Price')  \n",
    "plt.xlabel('XLarge')  \n",
    "plt.ylabel('AveragePrice')  \n",
    "plt.show()"
   ]
  },
  {
   "cell_type": "code",
   "execution_count": 55,
   "id": "80cc9159",
   "metadata": {},
   "outputs": [],
   "source": [
    "# Reshape the variables into NumPy arrays and put them into separate objects.\n",
    "\n",
    "X = df['XLarge'].values.reshape(-1,1)\n",
    "y = df['AveragePrice'].values.reshape(-1,1)"
   ]
  },
  {
   "cell_type": "code",
   "execution_count": 56,
   "id": "9ded6202",
   "metadata": {},
   "outputs": [
    {
     "data": {
      "text/plain": [
       "array([[ 49.9 ],\n",
       "       [127.12],\n",
       "       [135.77],\n",
       "       ...,\n",
       "       [ 25.97],\n",
       "       [ 11.78],\n",
       "       [ 14.1 ]])"
      ]
     },
     "execution_count": 56,
     "metadata": {},
     "output_type": "execute_result"
    }
   ],
   "source": [
    "X"
   ]
  },
  {
   "cell_type": "code",
   "execution_count": 57,
   "id": "81b4a641",
   "metadata": {},
   "outputs": [],
   "source": [
    "# Split data into a training set and a test set.  Using test_train_split\n",
    "X_train, X_test, y_train, y_test = train_test_split(X,y,test_size = 0.3, random_state =0)"
   ]
  },
  {
   "cell_type": "code",
   "execution_count": 58,
   "id": "6c3628ed",
   "metadata": {},
   "outputs": [
    {
     "data": {
      "text/plain": [
       "LinearRegression()"
      ]
     },
     "execution_count": 58,
     "metadata": {},
     "output_type": "execute_result"
    }
   ],
   "source": [
    "regression.fit(X_train, y_train)"
   ]
  },
  {
   "cell_type": "code",
   "execution_count": 59,
   "id": "549be545",
   "metadata": {},
   "outputs": [],
   "source": [
    "y_predicted = regression.predict(X_test)"
   ]
  },
  {
   "cell_type": "code",
   "execution_count": 60,
   "id": "8f21ca4e",
   "metadata": {},
   "outputs": [
    {
     "data": {
      "image/png": "[encoded data removed]",
      "text/plain": [
       "<Figure size 432x288 with 1 Axes>"
      ]
     },
     "metadata": {
      "needs_background": "light"
     },
     "output_type": "display_data"
    }
   ],
   "source": [
    "# Create a plot that shows the regression line from the model on the test set.\n",
    "plot_test = plt\n",
    "plot_test.scatter(X_test, y_test, color='limegreen', s = 15)\n",
    "plot_test.plot(X_test, y_predicted, color='red', linewidth =3)\n",
    "plot_test.title('XLarge Avocados vs Average Price (Test set)')\n",
    "plot_test.xlabel('XLarge')\n",
    "plot_test.ylabel('AveragePrice')\n",
    "plot_test.show()"
   ]
  },
  {
   "cell_type": "code",
   "execution_count": 61,
   "id": "24d0e0c3",
   "metadata": {},
   "outputs": [],
   "source": [
    "# Check the slope, MSE and R2 score.\n",
    "# Create objects that contain the model summary statistics.\n",
    "rmse = mean_squared_error(y_test, y_predicted)\n",
    "r2 = r2_score(y_test, y_predicted)"
   ]
  },
  {
   "cell_type": "code",
   "execution_count": 62,
   "id": "16d9b62f",
   "metadata": {},
   "outputs": [
    {
     "name": "stdout",
     "output_type": "stream",
     "text": [
      "Slope: [[-6.54719288e-07]]\n",
      "Mean squared error:  0.14576861162860108\n",
      "R2 score:  0.02875514968912829\n"
     ]
    }
   ],
   "source": [
    "# Check summary stats\n",
    "print('Slope:' ,regression.coef_)\n",
    "print('Mean squared error: ', rmse)\n",
    "print('R2 score: ', r2)"
   ]
  },
  {
   "cell_type": "code",
   "execution_count": 63,
   "id": "9cbda344",
   "metadata": {},
   "outputs": [
    {
     "data": {
      "text/html": [
       "<div>\n",
       "<style scoped>\n",
       "    .dataframe tbody tr th:only-of-type {\n",
       "        vertical-align: middle;\n",
       "    }\n",
       "\n",
       "    .dataframe tbody tr th {\n",
       "        vertical-align: top;\n",
       "    }\n",
       "\n",
       "    .dataframe thead th {\n",
       "        text-align: right;\n",
       "    }\n",
       "</style>\n",
       "<table border=\"1\" class=\"dataframe\">\n",
       "  <thead>\n",
       "    <tr style=\"text-align: right;\">\n",
       "      <th></th>\n",
       "      <th>Actual</th>\n",
       "      <th>Predicted</th>\n",
       "    </tr>\n",
       "  </thead>\n",
       "  <tbody>\n",
       "    <tr>\n",
       "      <th>0</th>\n",
       "      <td>1.35</td>\n",
       "      <td>1.403264</td>\n",
       "    </tr>\n",
       "    <tr>\n",
       "      <th>1</th>\n",
       "      <td>1.59</td>\n",
       "      <td>1.417271</td>\n",
       "    </tr>\n",
       "    <tr>\n",
       "      <th>2</th>\n",
       "      <td>2.08</td>\n",
       "      <td>1.418811</td>\n",
       "    </tr>\n",
       "    <tr>\n",
       "      <th>3</th>\n",
       "      <td>1.23</td>\n",
       "      <td>1.415868</td>\n",
       "    </tr>\n",
       "    <tr>\n",
       "      <th>4</th>\n",
       "      <td>1.04</td>\n",
       "      <td>1.402775</td>\n",
       "    </tr>\n",
       "    <tr>\n",
       "      <th>5</th>\n",
       "      <td>1.12</td>\n",
       "      <td>1.390526</td>\n",
       "    </tr>\n",
       "    <tr>\n",
       "      <th>6</th>\n",
       "      <td>0.96</td>\n",
       "      <td>1.413694</td>\n",
       "    </tr>\n",
       "    <tr>\n",
       "      <th>7</th>\n",
       "      <td>1.15</td>\n",
       "      <td>1.418805</td>\n",
       "    </tr>\n",
       "    <tr>\n",
       "      <th>8</th>\n",
       "      <td>1.11</td>\n",
       "      <td>1.419144</td>\n",
       "    </tr>\n",
       "    <tr>\n",
       "      <th>9</th>\n",
       "      <td>1.60</td>\n",
       "      <td>1.419061</td>\n",
       "    </tr>\n",
       "    <tr>\n",
       "      <th>10</th>\n",
       "      <td>1.25</td>\n",
       "      <td>1.415134</td>\n",
       "    </tr>\n",
       "    <tr>\n",
       "      <th>11</th>\n",
       "      <td>1.53</td>\n",
       "      <td>1.419332</td>\n",
       "    </tr>\n",
       "    <tr>\n",
       "      <th>12</th>\n",
       "      <td>0.81</td>\n",
       "      <td>1.380729</td>\n",
       "    </tr>\n",
       "    <tr>\n",
       "      <th>13</th>\n",
       "      <td>1.47</td>\n",
       "      <td>1.419402</td>\n",
       "    </tr>\n",
       "    <tr>\n",
       "      <th>14</th>\n",
       "      <td>1.95</td>\n",
       "      <td>1.419343</td>\n",
       "    </tr>\n",
       "    <tr>\n",
       "      <th>15</th>\n",
       "      <td>1.02</td>\n",
       "      <td>1.411729</td>\n",
       "    </tr>\n",
       "    <tr>\n",
       "      <th>16</th>\n",
       "      <td>1.10</td>\n",
       "      <td>1.413968</td>\n",
       "    </tr>\n",
       "    <tr>\n",
       "      <th>17</th>\n",
       "      <td>1.19</td>\n",
       "      <td>1.416692</td>\n",
       "    </tr>\n",
       "    <tr>\n",
       "      <th>18</th>\n",
       "      <td>1.07</td>\n",
       "      <td>1.410822</td>\n",
       "    </tr>\n",
       "    <tr>\n",
       "      <th>19</th>\n",
       "      <td>1.32</td>\n",
       "      <td>1.419067</td>\n",
       "    </tr>\n",
       "    <tr>\n",
       "      <th>20</th>\n",
       "      <td>1.46</td>\n",
       "      <td>1.414667</td>\n",
       "    </tr>\n",
       "    <tr>\n",
       "      <th>21</th>\n",
       "      <td>1.76</td>\n",
       "      <td>1.418846</td>\n",
       "    </tr>\n",
       "    <tr>\n",
       "      <th>22</th>\n",
       "      <td>1.54</td>\n",
       "      <td>1.419365</td>\n",
       "    </tr>\n",
       "    <tr>\n",
       "      <th>23</th>\n",
       "      <td>1.44</td>\n",
       "      <td>1.419126</td>\n",
       "    </tr>\n",
       "    <tr>\n",
       "      <th>24</th>\n",
       "      <td>1.01</td>\n",
       "      <td>1.387472</td>\n",
       "    </tr>\n",
       "    <tr>\n",
       "      <th>25</th>\n",
       "      <td>1.32</td>\n",
       "      <td>1.416051</td>\n",
       "    </tr>\n",
       "    <tr>\n",
       "      <th>26</th>\n",
       "      <td>1.19</td>\n",
       "      <td>1.419185</td>\n",
       "    </tr>\n",
       "    <tr>\n",
       "      <th>27</th>\n",
       "      <td>1.40</td>\n",
       "      <td>1.419408</td>\n",
       "    </tr>\n",
       "    <tr>\n",
       "      <th>28</th>\n",
       "      <td>1.09</td>\n",
       "      <td>1.411013</td>\n",
       "    </tr>\n",
       "    <tr>\n",
       "      <th>29</th>\n",
       "      <td>1.34</td>\n",
       "      <td>1.419175</td>\n",
       "    </tr>\n",
       "  </tbody>\n",
       "</table>\n",
       "</div>"
      ],
      "text/plain": [
       "    Actual  Predicted\n",
       "0     1.35   1.403264\n",
       "1     1.59   1.417271\n",
       "2     2.08   1.418811\n",
       "3     1.23   1.415868\n",
       "4     1.04   1.402775\n",
       "5     1.12   1.390526\n",
       "6     0.96   1.413694\n",
       "7     1.15   1.418805\n",
       "8     1.11   1.419144\n",
       "9     1.60   1.419061\n",
       "10    1.25   1.415134\n",
       "11    1.53   1.419332\n",
       "12    0.81   1.380729\n",
       "13    1.47   1.419402\n",
       "14    1.95   1.419343\n",
       "15    1.02   1.411729\n",
       "16    1.10   1.413968\n",
       "17    1.19   1.416692\n",
       "18    1.07   1.410822\n",
       "19    1.32   1.419067\n",
       "20    1.46   1.414667\n",
       "21    1.76   1.418846\n",
       "22    1.54   1.419365\n",
       "23    1.44   1.419126\n",
       "24    1.01   1.387472\n",
       "25    1.32   1.416051\n",
       "26    1.19   1.419185\n",
       "27    1.40   1.419408\n",
       "28    1.09   1.411013\n",
       "29    1.34   1.419175"
      ]
     },
     "execution_count": 63,
     "metadata": {},
     "output_type": "execute_result"
    }
   ],
   "source": [
    "# Create a dataframe comparing the actual and predicted values of y.\n",
    "\n",
    "data1 = pd.DataFrame({'Actual': y_test.flatten(), 'Predicted': y_predicted.flatten()})\n",
    "data.head(30)"
   ]
  },
  {
   "cell_type": "code",
   "execution_count": 80,
   "id": "a801582b",
   "metadata": {},
   "outputs": [],
   "source": [
    "df3=df[df['XLarge']<=2]"
   ]
  },
  {
   "cell_type": "code",
   "execution_count": 81,
   "id": "b4dc51c5",
   "metadata": {},
   "outputs": [
    {
     "data": {
      "text/html": [
       "<div>\n",
       "<style scoped>\n",
       "    .dataframe tbody tr th:only-of-type {\n",
       "        vertical-align: middle;\n",
       "    }\n",
       "\n",
       "    .dataframe tbody tr th {\n",
       "        vertical-align: top;\n",
       "    }\n",
       "\n",
       "    .dataframe thead th {\n",
       "        text-align: right;\n",
       "    }\n",
       "</style>\n",
       "<table border=\"1\" class=\"dataframe\">\n",
       "  <thead>\n",
       "    <tr style=\"text-align: right;\">\n",
       "      <th></th>\n",
       "      <th>Unnamed: 0</th>\n",
       "      <th>Unnamed</th>\n",
       "      <th>Date</th>\n",
       "      <th>AveragePrice</th>\n",
       "      <th>Total Volume</th>\n",
       "      <th>Small/Medium</th>\n",
       "      <th>Large</th>\n",
       "      <th>XLarge</th>\n",
       "      <th>Total Bags</th>\n",
       "      <th>Small Bags</th>\n",
       "      <th>Large.1</th>\n",
       "      <th>XLarge Bags</th>\n",
       "      <th>type</th>\n",
       "      <th>year</th>\n",
       "      <th>region</th>\n",
       "    </tr>\n",
       "  </thead>\n",
       "  <tbody>\n",
       "    <tr>\n",
       "      <th>828</th>\n",
       "      <td>828</td>\n",
       "      <td>828</td>\n",
       "      <td>2016-05-01</td>\n",
       "      <td>0.63</td>\n",
       "      <td>82585.83</td>\n",
       "      <td>32240.97</td>\n",
       "      <td>3928.02</td>\n",
       "      <td>0.00</td>\n",
       "      <td>46416.84</td>\n",
       "      <td>46257.90</td>\n",
       "      <td>140.79</td>\n",
       "      <td>18.15</td>\n",
       "      <td>conventional</td>\n",
       "      <td>2016</td>\n",
       "      <td>Boise</td>\n",
       "    </tr>\n",
       "    <tr>\n",
       "      <th>835</th>\n",
       "      <td>835</td>\n",
       "      <td>835</td>\n",
       "      <td>2016-06-19</td>\n",
       "      <td>0.70</td>\n",
       "      <td>129020.17</td>\n",
       "      <td>36119.41</td>\n",
       "      <td>6692.38</td>\n",
       "      <td>2.00</td>\n",
       "      <td>86206.38</td>\n",
       "      <td>86107.76</td>\n",
       "      <td>83.05</td>\n",
       "      <td>15.57</td>\n",
       "      <td>conventional</td>\n",
       "      <td>2016</td>\n",
       "      <td>Boise</td>\n",
       "    </tr>\n",
       "    <tr>\n",
       "      <th>12450</th>\n",
       "      <td>12450</td>\n",
       "      <td>12450</td>\n",
       "      <td>2016-01-10</td>\n",
       "      <td>1.36</td>\n",
       "      <td>57676.73</td>\n",
       "      <td>757.85</td>\n",
       "      <td>31787.68</td>\n",
       "      <td>2.00</td>\n",
       "      <td>25129.20</td>\n",
       "      <td>25129.20</td>\n",
       "      <td>0.00</td>\n",
       "      <td>0.00</td>\n",
       "      <td>conventional</td>\n",
       "      <td>2016</td>\n",
       "      <td>Syracuse</td>\n",
       "    </tr>\n",
       "    <tr>\n",
       "      <th>12463</th>\n",
       "      <td>12463</td>\n",
       "      <td>12463</td>\n",
       "      <td>2016-04-10</td>\n",
       "      <td>1.28</td>\n",
       "      <td>62892.35</td>\n",
       "      <td>987.33</td>\n",
       "      <td>32612.34</td>\n",
       "      <td>2.00</td>\n",
       "      <td>29290.68</td>\n",
       "      <td>29290.68</td>\n",
       "      <td>0.00</td>\n",
       "      <td>0.00</td>\n",
       "      <td>conventional</td>\n",
       "      <td>2016</td>\n",
       "      <td>Syracuse</td>\n",
       "    </tr>\n",
       "    <tr>\n",
       "      <th>12475</th>\n",
       "      <td>12475</td>\n",
       "      <td>12475</td>\n",
       "      <td>2016-07-03</td>\n",
       "      <td>1.37</td>\n",
       "      <td>85205.46</td>\n",
       "      <td>1970.63</td>\n",
       "      <td>47537.91</td>\n",
       "      <td>1.25</td>\n",
       "      <td>35695.67</td>\n",
       "      <td>32830.67</td>\n",
       "      <td>0.00</td>\n",
       "      <td>2865.00</td>\n",
       "      <td>conventional</td>\n",
       "      <td>2016</td>\n",
       "      <td>Syracuse</td>\n",
       "    </tr>\n",
       "  </tbody>\n",
       "</table>\n",
       "</div>"
      ],
      "text/plain": [
       "       Unnamed: 0  Unnamed        Date  AveragePrice  Total Volume  \\\n",
       "828           828      828  2016-05-01          0.63      82585.83   \n",
       "835           835      835  2016-06-19          0.70     129020.17   \n",
       "12450       12450    12450  2016-01-10          1.36      57676.73   \n",
       "12463       12463    12463  2016-04-10          1.28      62892.35   \n",
       "12475       12475    12475  2016-07-03          1.37      85205.46   \n",
       "\n",
       "       Small/Medium     Large  XLarge  Total Bags  Small Bags  Large.1  \\\n",
       "828        32240.97   3928.02    0.00    46416.84    46257.90   140.79   \n",
       "835        36119.41   6692.38    2.00    86206.38    86107.76    83.05   \n",
       "12450        757.85  31787.68    2.00    25129.20    25129.20     0.00   \n",
       "12463        987.33  32612.34    2.00    29290.68    29290.68     0.00   \n",
       "12475       1970.63  47537.91    1.25    35695.67    32830.67     0.00   \n",
       "\n",
       "       XLarge Bags          type  year    region  \n",
       "828          18.15  conventional  2016     Boise  \n",
       "835          15.57  conventional  2016     Boise  \n",
       "12450         0.00  conventional  2016  Syracuse  \n",
       "12463         0.00  conventional  2016  Syracuse  \n",
       "12475      2865.00  conventional  2016  Syracuse  "
      ]
     },
     "execution_count": 81,
     "metadata": {},
     "output_type": "execute_result"
    }
   ],
   "source": [
    "df3.head()"
   ]
  },
  {
   "cell_type": "code",
   "execution_count": 82,
   "id": "1852ab58",
   "metadata": {},
   "outputs": [
    {
     "data": {
      "image/png": "[encoded data removed]",
      "text/plain": [
       "<Figure size 432x288 with 1 Axes>"
      ]
     },
     "metadata": {
      "needs_background": "light"
     },
     "output_type": "display_data"
    }
   ],
   "source": [
    "# Create a scatterplot using matplotlib for another look at how the chosen variables plot against each other.\n",
    "\n",
    "df3.plot(x = 'XLarge', y='AveragePrice',style='o') # The style option creates a scatterplot; without it, we only have lines.\n",
    "plt.title('XLarge Avocados vs Average Price')  \n",
    "plt.xlabel('XLarge')  \n",
    "plt.ylabel('AveragePrice')  \n",
    "plt.show()"
   ]
  },
  {
   "cell_type": "code",
   "execution_count": 83,
   "id": "162962b4",
   "metadata": {},
   "outputs": [],
   "source": [
    "# Reshape the variables into NumPy arrays and put them into separate objects.\n",
    "\n",
    "X = df3['XLarge'].values.reshape(-1,1)\n",
    "y = df3['AveragePrice'].values.reshape(-1,1)"
   ]
  },
  {
   "cell_type": "code",
   "execution_count": 84,
   "id": "7a3ab344",
   "metadata": {},
   "outputs": [],
   "source": [
    "# Split data into a training set and a test set.\n",
    "\n",
    "X_train, X_test, y_train, y_test = train_test_split(X, y, test_size=0.3, random_state=0)"
   ]
  },
  {
   "cell_type": "code",
   "execution_count": 85,
   "id": "56d74c5f",
   "metadata": {},
   "outputs": [
    {
     "data": {
      "text/plain": [
       "LinearRegression()"
      ]
     },
     "execution_count": 85,
     "metadata": {},
     "output_type": "execute_result"
    }
   ],
   "source": [
    "# Fit the regression object onto the training set.\n",
    "\n",
    "regression.fit(X_train, y_train)"
   ]
  },
  {
   "cell_type": "code",
   "execution_count": 86,
   "id": "e97a003d",
   "metadata": {},
   "outputs": [],
   "source": [
    "# Predict the values of y using X.\n",
    "\n",
    "y_predicted = regression.predict(X_test)"
   ]
  },
  {
   "cell_type": "code",
   "execution_count": 90,
   "id": "a1ea1677",
   "metadata": {},
   "outputs": [
    {
     "data": {
      "image/png": "[encoded data removed]",
      "text/plain": [
       "<Figure size 432x288 with 1 Axes>"
      ]
     },
     "metadata": {
      "needs_background": "light"
     },
     "output_type": "display_data"
    }
   ],
   "source": [
    "# Create a plot that shows the regression line from the model on the test set.\n",
    "\n",
    "plot_test = plt\n",
    "plot_test.scatter(X_test, y_test, color='lime', s = 15)\n",
    "plot_test.plot(X_test, y_predicted, color='darkorchid', linewidth =3)\n",
    "plot_test.title('XLarge Avocados vs Average Price (Test set)')\n",
    "plot_test.xlabel('XLarge')\n",
    "plot_test.ylabel('AveragePrice')\n",
    "plot_test.show()"
   ]
  },
  {
   "cell_type": "code",
   "execution_count": 91,
   "id": "7af4f077",
   "metadata": {},
   "outputs": [
    {
     "name": "stdout",
     "output_type": "stream",
     "text": [
      "Slope: [[0.08712779]]\n",
      "Mean squared error:  0.11526825098129506\n",
      "R2 score:  0.002135529374377665\n"
     ]
    }
   ],
   "source": [
    "# Create objects that contain the model summary statistics.\n",
    "\n",
    "rmse = mean_squared_error(y_test, y_predicted) # This is the mean squared error\n",
    "r2 = r2_score(y_test, y_predicted) # This is the R2 score. \n",
    "\n",
    "# Print the model summary statistics. This is where you evaluate the performance of the model.\n",
    "\n",
    "print('Slope:' ,regression.coef_)\n",
    "print('Mean squared error: ', rmse)\n",
    "print('R2 score: ', r2)"
   ]
  }
 ],
 "metadata": {
  "kernelspec": {
   "display_name": "Python 3 (ipykernel)",
   "language": "python",
   "name": "python3"
  },
  "language_info": {
   "codemirror_mode": {
    "name": "ipython",
    "version": 3
   },
   "file_extension": ".py",
   "mimetype": "text/x-python",
   "name": "python",
   "nbconvert_exporter": "python",
   "pygments_lexer": "ipython3",
   "version": "3.9.12"
  }
 },
 "nbformat": 4,
 "nbformat_minor": 5
}
